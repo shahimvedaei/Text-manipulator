{
 "cells": [
  {
   "cell_type": "code",
   "execution_count": 357,
   "metadata": {},
   "outputs": [],
   "source": [
    "import re\n",
    "import numpy as np\n",
    "import pandas as pd\n",
    "from os import listdir\n",
    "from os.path import isfile, join"
   ]
  },
  {
   "cell_type": "code",
   "execution_count": 371,
   "metadata": {},
   "outputs": [],
   "source": [
    "mypath = \"C:/Users/Shahi/Desktop/Bleeding experiment Test2/clear intertine/\"\n",
    "#mypath = \"C:/Users/Shahi/Desktop/Bleeding experiment Test2/hemo drop/\"\n",
    "#mypath = \"C:/Users/Shahi/Desktop/Bleeding experiment Test2/hemoglobin level 1/\"\n",
    "#mypath = \"C:/Users/Shahi/Desktop/Bleeding experiment Test2/hemoglobin level 2/\"\n",
    "#mypath = \"C:/Users/Shahi/Desktop/Bleeding experiment Test2/red drop/\"\n",
    "#mypath = \"C:/Users/Shahi/Desktop/Bleeding experiment Test2/red level 1/\"\n",
    "#mypath = \"C:/Users/Shahi/Desktop/Bleeding experiment Test2/red level 2/\"\n",
    "#mypath = \"C:/Users/Shahi/Desktop/Bleeding experiment Test2/soy and red level 1/\"\n",
    "#mypath = \"C:/Users/Shahi/Desktop/Bleeding experiment Test2/soy and red level 2/\"\n",
    "#mypath = \"C:/Users/Shahi/Desktop/Bleeding experiment Test2/soy level 1/\"\n",
    "#mypath = \"C:/Users/Shahi/Desktop/Bleeding experiment Test2/soy level 2/\"\n",
    "\n",
    "\n",
    "onlyfiles = [f for f in listdir(mypath) if isfile(join(mypath, f))]\n",
    "\n",
    "# Load text file\n",
    "for i in range (0, 8, 1):\n",
    "    myfile_path = mypath+onlyfiles[i];\n",
    "    myfile = open(myfile_path);\n",
    "    myfile_len = len(myfile.readlines());\n",
    "    myfile.close();\n",
    "    myfile = open(myfile_path);\n",
    "\n",
    "    myfile.readline(); #- Dummy read to skip the first line\n",
    "    #----------------------------------------------------------\n",
    "    df = pd.DataFrame(columns=[1,2,3,4,5,6,7]);\n",
    "\n",
    "    for j in range (0,myfile_len-3,1): #- remove last 2 lines\n",
    "        txt = myfile.readline();\n",
    "        x = re.findall(r\"\\d+\\.\\d+\", txt)\n",
    "        df.loc[j] = x;\n",
    "\n",
    "    df.to_csv(myfile_path+'.csv');"
   ]
  },
  {
   "cell_type": "code",
   "execution_count": null,
   "metadata": {},
   "outputs": [],
   "source": []
  },
  {
   "cell_type": "code",
   "execution_count": null,
   "metadata": {},
   "outputs": [],
   "source": []
  },
  {
   "cell_type": "code",
   "execution_count": 348,
   "metadata": {},
   "outputs": [],
   "source": [
    "\n",
    "\n"
   ]
  }
 ],
 "metadata": {
  "kernelspec": {
   "display_name": "Python 3",
   "language": "python",
   "name": "python3"
  },
  "language_info": {
   "codemirror_mode": {
    "name": "ipython",
    "version": 3
   },
   "file_extension": ".py",
   "mimetype": "text/x-python",
   "name": "python",
   "nbconvert_exporter": "python",
   "pygments_lexer": "ipython3",
   "version": "3.7.6"
  }
 },
 "nbformat": 4,
 "nbformat_minor": 4
}
